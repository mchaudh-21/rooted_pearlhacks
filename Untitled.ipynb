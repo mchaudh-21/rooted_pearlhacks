{
 "cells": [
  {
   "cell_type": "code",
   "execution_count": 1,
   "id": "1af98db4-f421-467f-afb3-eaa5f044a3ce",
   "metadata": {},
   "outputs": [],
   "source": [
    "from datascience import *\n",
    "import numpy as np\n",
    "\n",
    "%matplotlib inline\n",
    "import matplotlib.pyplot as plots\n",
    "plots.style.use('fivethirtyeight')"
   ]
  },
  {
   "cell_type": "code",
   "execution_count": 26,
   "id": "dbc5d251-8501-461a-9ac4-ad2a83bd8b5f",
   "metadata": {},
   "outputs": [
    {
     "data": {
      "text/html": [
       "<table border=\"1\" class=\"dataframe\">\n",
       "    <thead>\n",
       "        <tr>\n",
       "            <th>Product</th> <th>Alternatives</th> <th>Price</th> <th>Transport</th> <th>Processing</th> <th>Packaging</th> <th>Greenhouse Gas Emissions (per 1000 kcal)</th> <th>Land use per 1000kcal</th> <th>Total_Emissions</th> <th>Reviews</th>\n",
       "        </tr>\n",
       "    </thead>\n",
       "    <tbody>\n",
       "        <tr>\n",
       "            <td>nan                </td> <td>Easy Trap Sweep and Dust Sheets -- Company(3M)              </td> <td>$11.79  </td> <td>0.1      </td> <td>0.2       </td> <td>0.1      </td> <td>nan                                     </td> <td>nan                  </td> <td>1.4            </td> <td>4.6    </td>\n",
       "        </tr>\n",
       "        <tr>\n",
       "            <td>All Purpose Cleaner</td> <td>120 Peroxide Multi-Surface Cleaner WD                       </td> <td>$204.36 </td> <td>0.1      </td> <td>0.1       </td> <td>0.1      </td> <td>nan                                     </td> <td>nan                  </td> <td>1.1            </td> <td>4.7    </td>\n",
       "        </tr>\n",
       "        <tr>\n",
       "            <td>Toilet bowl cleaner</td> <td>Altra Tub, Tile & Bowl Cleaner                              </td> <td>nan     </td> <td>0.1      </td> <td>0         </td> <td>0.1      </td> <td>0.945482                                </td> <td>2.89745              </td> <td>1.6            </td> <td>3.2    </td>\n",
       "        </tr>\n",
       "        <tr>\n",
       "            <td>Carpet Shampoo     </td> <td>Gento Professional Bio Carpet Shampoo -- Gento Professional </td> <td>nan     </td> <td>0.1      </td> <td>0.1       </td> <td>0.1      </td> <td>1.20727                                 </td> <td>0.759631             </td> <td>4              </td> <td>3.6    </td>\n",
       "        </tr>\n",
       "        <tr>\n",
       "            <td>Floor Pads         </td> <td>Brightline Full Cycle Floor Pads                            </td> <td>$10.17  </td> <td>0.8      </td> <td>0         </td> <td>0.1      </td> <td>0.911681                                </td> <td>0.581197             </td> <td>2.6            </td> <td>4.9    </td>\n",
       "        </tr>\n",
       "        <tr>\n",
       "            <td>Glass Cleaner      </td> <td>Buckeye Eco Glass Cleaner HD                                </td> <td>$32.05  </td> <td>0.6      </td> <td>0.2       </td> <td>0.1      </td> <td>0.51567                                 </td> <td>0.521368             </td> <td>1.4            </td> <td>2.4    </td>\n",
       "        </tr>\n",
       "        <tr>\n",
       "            <td>Degreaser          </td> <td>107 Heavy Duty APC & Degreaser WD                           </td> <td>nan     </td> <td>0.2      </td> <td>0.8       </td> <td>0.2      </td> <td>nan                                     </td> <td>nan                  </td> <td>3              </td> <td>3.6    </td>\n",
       "        </tr>\n",
       "        <tr>\n",
       "            <td>All Purpose Cleaner</td> <td>120 Peroxide Multi-Surface Cleaner WD                       </td> <td>nan     </td> <td>0.2      </td> <td>1.3       </td> <td>0.9      </td> <td>0.828054                                </td> <td>0.273756             </td> <td>7.6            </td> <td>2.5    </td>\n",
       "        </tr>\n",
       "        <tr>\n",
       "            <td>All Purpose Cleaner</td> <td>#2 Champion Spray Cleaner                                   </td> <td>$57.03  </td> <td>0.2      </td> <td>0.2       </td> <td>0.9      </td> <td>0.40724                                 </td> <td>1.99774              </td> <td>3.5            </td> <td>1.8    </td>\n",
       "        </tr>\n",
       "        <tr>\n",
       "            <td>All Purpose Cleaner</td> <td>3M General Purpose Cleaner Concentrate 8A, 3M Flow Contr ...</td> <td>$51.75  </td> <td>0.5      </td> <td>0.7       </td> <td>0.9      </td> <td>0.613122                                </td> <td>2.97624              </td> <td>6              </td> <td>4.3    </td>\n",
       "        </tr>\n",
       "    </tbody>\n",
       "</table>\n",
       "<p>... (54 rows omitted)</p>"
      ],
      "text/plain": [
       "Product             | Alternatives                                                 | Price    | Transport | Processing | Packaging | Greenhouse Gas Emissions (per 1000 kcal) | Land use per 1000kcal | Total_Emissions | Reviews\n",
       "nan                 | Easy Trap Sweep and Dust Sheets -- Company(3M)               | $11.79   | 0.1       | 0.2        | 0.1       | nan                                      | nan                   | 1.4             | 4.6\n",
       "All Purpose Cleaner | 120 Peroxide Multi-Surface Cleaner WD                        | $204.36  | 0.1       | 0.1        | 0.1       | nan                                      | nan                   | 1.1             | 4.7\n",
       "Toilet bowl cleaner | Altra Tub, Tile & Bowl Cleaner                               | nan      | 0.1       | 0          | 0.1       | 0.945482                                 | 2.89745               | 1.6             | 3.2\n",
       "Carpet Shampoo      | Gento Professional Bio Carpet Shampoo -- Gento Professional  | nan      | 0.1       | 0.1        | 0.1       | 1.20727                                  | 0.759631              | 4               | 3.6\n",
       "Floor Pads          | Brightline Full Cycle Floor Pads                             | $10.17   | 0.8       | 0          | 0.1       | 0.911681                                 | 0.581197              | 2.6             | 4.9\n",
       "Glass Cleaner       | Buckeye Eco Glass Cleaner HD                                 | $32.05   | 0.6       | 0.2        | 0.1       | 0.51567                                  | 0.521368              | 1.4             | 2.4\n",
       "Degreaser           | 107 Heavy Duty APC & Degreaser WD                            | nan      | 0.2       | 0.8        | 0.2       | nan                                      | nan                   | 3               | 3.6\n",
       "All Purpose Cleaner | 120 Peroxide Multi-Surface Cleaner WD                        | nan      | 0.2       | 1.3        | 0.9       | 0.828054                                 | 0.273756              | 7.6             | 2.5\n",
       "All Purpose Cleaner | #2 Champion Spray Cleaner                                    | $57.03   | 0.2       | 0.2        | 0.9       | 0.40724                                  | 1.99774               | 3.5             | 1.8\n",
       "All Purpose Cleaner | 3M General Purpose Cleaner Concentrate 8A, 3M Flow Contr ... | $51.75   | 0.5       | 0.7        | 0.9       | 0.613122                                 | 2.97624               | 6               | 4.3\n",
       "... (54 rows omitted)"
      ]
     },
     "execution_count": 26,
     "metadata": {},
     "output_type": "execute_result"
    }
   ],
   "source": [
    "data = Table().read_table(\"pearlhacksdata.csv\").drop(0,11)\n",
    "data"
   ]
  },
  {
   "cell_type": "code",
   "execution_count": 27,
   "id": "1f4b9a93-3b32-46b4-9cf4-f95d609e7bc7",
   "metadata": {},
   "outputs": [
    {
     "data": {
      "text/html": [
       "<table border=\"1\" class=\"dataframe\">\n",
       "    <thead>\n",
       "        <tr>\n",
       "            <th>Product</th> <th>Alternatives</th> <th>Price</th> <th>Transport</th> <th>Processing</th> <th>Packaging</th> <th>Greenhouse Gas Emissions (per 1000 kcal)</th> <th>Land use per 1000kcal</th> <th>Total_Emissions</th> <th>Reviews</th>\n",
       "        </tr>\n",
       "    </thead>\n",
       "    <tbody>\n",
       "        <tr>\n",
       "            <td>All Purpose Cleaner</td> <td>120 Peroxide Multi-Surface Cleaner WD                       </td> <td>$204.36 </td> <td>0.1      </td> <td>0.1       </td> <td>0.1      </td> <td>nan                                     </td> <td>nan                  </td> <td>1.1            </td> <td>4.7    </td>\n",
       "        </tr>\n",
       "        <tr>\n",
       "            <td>Toilet bowl cleaner</td> <td>Altra Tub, Tile & Bowl Cleaner                              </td> <td>nan     </td> <td>0.1      </td> <td>0         </td> <td>0.1      </td> <td>0.945482                                </td> <td>2.89745              </td> <td>1.6            </td> <td>3.2    </td>\n",
       "        </tr>\n",
       "        <tr>\n",
       "            <td>Glass Cleaner      </td> <td>Buckeye Eco Glass Cleaner HD                                </td> <td>$32.05  </td> <td>0.6      </td> <td>0.2       </td> <td>0.1      </td> <td>0.51567                                 </td> <td>0.521368             </td> <td>1.4            </td> <td>2.4    </td>\n",
       "        </tr>\n",
       "        <tr>\n",
       "            <td>All Purpose Cleaner</td> <td>120 Peroxide Multi-Surface Cleaner WD                       </td> <td>nan     </td> <td>0.2      </td> <td>1.3       </td> <td>0.9      </td> <td>0.828054                                </td> <td>0.273756             </td> <td>7.6            </td> <td>2.5    </td>\n",
       "        </tr>\n",
       "        <tr>\n",
       "            <td>All Purpose Cleaner</td> <td>#2 Champion Spray Cleaner                                   </td> <td>$57.03  </td> <td>0.2      </td> <td>0.2       </td> <td>0.9      </td> <td>0.40724                                 </td> <td>1.99774              </td> <td>3.5            </td> <td>1.8    </td>\n",
       "        </tr>\n",
       "        <tr>\n",
       "            <td>All Purpose Cleaner</td> <td>3M General Purpose Cleaner Concentrate 8A, 3M Flow Contr ...</td> <td>$51.75  </td> <td>0.5      </td> <td>0.7       </td> <td>0.9      </td> <td>0.613122                                </td> <td>2.97624              </td> <td>6              </td> <td>4.3    </td>\n",
       "        </tr>\n",
       "    </tbody>\n",
       "</table>"
      ],
      "text/plain": [
       "Product             | Alternatives                                                 | Price    | Transport | Processing | Packaging | Greenhouse Gas Emissions (per 1000 kcal) | Land use per 1000kcal | Total_Emissions | Reviews\n",
       "All Purpose Cleaner | 120 Peroxide Multi-Surface Cleaner WD                        | $204.36  | 0.1       | 0.1        | 0.1       | nan                                      | nan                   | 1.1             | 4.7\n",
       "Toilet bowl cleaner | Altra Tub, Tile & Bowl Cleaner                               | nan      | 0.1       | 0          | 0.1       | 0.945482                                 | 2.89745               | 1.6             | 3.2\n",
       "Glass Cleaner       | Buckeye Eco Glass Cleaner HD                                 | $32.05   | 0.6       | 0.2        | 0.1       | 0.51567                                  | 0.521368              | 1.4             | 2.4\n",
       "All Purpose Cleaner | 120 Peroxide Multi-Surface Cleaner WD                        | nan      | 0.2       | 1.3        | 0.9       | 0.828054                                 | 0.273756              | 7.6             | 2.5\n",
       "All Purpose Cleaner | #2 Champion Spray Cleaner                                    | $57.03   | 0.2       | 0.2        | 0.9       | 0.40724                                  | 1.99774               | 3.5             | 1.8\n",
       "All Purpose Cleaner | 3M General Purpose Cleaner Concentrate 8A, 3M Flow Contr ... | $51.75   | 0.5       | 0.7        | 0.9       | 0.613122                                 | 2.97624               | 6               | 4.3"
      ]
     },
     "execution_count": 27,
     "metadata": {},
     "output_type": "execute_result"
    }
   ],
   "source": [
    "cleaners= data.where('Product', are.containing('leaner')) and data.where('Alternatives', are.containing('leaner'))\n",
    "cleaners"
   ]
  },
  {
   "cell_type": "code",
   "execution_count": 28,
   "id": "b5266fa8-f149-452c-bdef-20d12046d28e",
   "metadata": {},
   "outputs": [
    {
     "data": {
      "text/html": [
       "<table border=\"1\" class=\"dataframe\">\n",
       "    <thead>\n",
       "        <tr>\n",
       "            <th>Product</th> <th>Alternatives</th> <th>Price</th> <th>Transport</th> <th>Processing</th> <th>Packaging</th> <th>Greenhouse Gas Emissions (per 1000 kcal)</th> <th>Land use per 1000kcal</th> <th>Total_Emissions</th> <th>Reviews</th>\n",
       "        </tr>\n",
       "    </thead>\n",
       "    <tbody>\n",
       "        <tr>\n",
       "            <td>All Purpose Cleaner</td> <td>120 Peroxide Multi-Surface Cleaner WD                       </td> <td>$204.36 </td> <td>0.1      </td> <td>0.1       </td> <td>0.1      </td> <td>nan                                     </td> <td>nan                  </td> <td>1.1            </td> <td>4.7    </td>\n",
       "        </tr>\n",
       "        <tr>\n",
       "            <td>Glass Cleaner      </td> <td>Buckeye Eco Glass Cleaner HD                                </td> <td>$32.05  </td> <td>0.6      </td> <td>0.2       </td> <td>0.1      </td> <td>0.51567                                 </td> <td>0.521368             </td> <td>1.4            </td> <td>2.4    </td>\n",
       "        </tr>\n",
       "        <tr>\n",
       "            <td>All Purpose Cleaner</td> <td>3M General Purpose Cleaner Concentrate 8A, 3M Flow Contr ...</td> <td>$51.75  </td> <td>0.5      </td> <td>0.7       </td> <td>0.9      </td> <td>0.613122                                </td> <td>2.97624              </td> <td>6              </td> <td>4.3    </td>\n",
       "        </tr>\n",
       "        <tr>\n",
       "            <td>All Purpose Cleaner</td> <td>#2 Champion Spray Cleaner                                   </td> <td>$57.03  </td> <td>0.2      </td> <td>0.2       </td> <td>0.9      </td> <td>0.40724                                 </td> <td>1.99774              </td> <td>3.5            </td> <td>1.8    </td>\n",
       "        </tr>\n",
       "        <tr>\n",
       "            <td>Toilet bowl cleaner</td> <td>Altra Tub, Tile & Bowl Cleaner                              </td> <td>nan     </td> <td>0.1      </td> <td>0         </td> <td>0.1      </td> <td>0.945482                                </td> <td>2.89745              </td> <td>1.6            </td> <td>3.2    </td>\n",
       "        </tr>\n",
       "        <tr>\n",
       "            <td>All Purpose Cleaner</td> <td>120 Peroxide Multi-Surface Cleaner WD                       </td> <td>nan     </td> <td>0.2      </td> <td>1.3       </td> <td>0.9      </td> <td>0.828054                                </td> <td>0.273756             </td> <td>7.6            </td> <td>2.5    </td>\n",
       "        </tr>\n",
       "    </tbody>\n",
       "</table>"
      ],
      "text/plain": [
       "Product             | Alternatives                                                 | Price    | Transport | Processing | Packaging | Greenhouse Gas Emissions (per 1000 kcal) | Land use per 1000kcal | Total_Emissions | Reviews\n",
       "All Purpose Cleaner | 120 Peroxide Multi-Surface Cleaner WD                        | $204.36  | 0.1       | 0.1        | 0.1       | nan                                      | nan                   | 1.1             | 4.7\n",
       "Glass Cleaner       | Buckeye Eco Glass Cleaner HD                                 | $32.05   | 0.6       | 0.2        | 0.1       | 0.51567                                  | 0.521368              | 1.4             | 2.4\n",
       "All Purpose Cleaner | 3M General Purpose Cleaner Concentrate 8A, 3M Flow Contr ... | $51.75   | 0.5       | 0.7        | 0.9       | 0.613122                                 | 2.97624               | 6               | 4.3\n",
       "All Purpose Cleaner | #2 Champion Spray Cleaner                                    | $57.03   | 0.2       | 0.2        | 0.9       | 0.40724                                  | 1.99774               | 3.5             | 1.8\n",
       "Toilet bowl cleaner | Altra Tub, Tile & Bowl Cleaner                               | nan      | 0.1       | 0          | 0.1       | 0.945482                                 | 2.89745               | 1.6             | 3.2\n",
       "All Purpose Cleaner | 120 Peroxide Multi-Surface Cleaner WD                        | nan      | 0.2       | 1.3        | 0.9       | 0.828054                                 | 0.273756              | 7.6             | 2.5"
      ]
     },
     "execution_count": 28,
     "metadata": {},
     "output_type": "execute_result"
    }
   ],
   "source": [
    "high_to_low = cleaners.sort('Price')\n",
    "high_to_low"
   ]
  },
  {
   "cell_type": "code",
   "execution_count": 29,
   "id": "b7301719-20d9-410e-ad1a-62882c120c39",
   "metadata": {},
   "outputs": [
    {
     "data": {
      "text/html": [
       "<table border=\"1\" class=\"dataframe\">\n",
       "    <thead>\n",
       "        <tr>\n",
       "            <th>Product</th> <th>Alternatives</th> <th>Price</th> <th>Transport</th> <th>Processing</th> <th>Packaging</th> <th>Greenhouse Gas Emissions (per 1000 kcal)</th> <th>Land use per 1000kcal</th> <th>Total_Emissions</th> <th>Reviews</th>\n",
       "        </tr>\n",
       "    </thead>\n",
       "    <tbody>\n",
       "        <tr>\n",
       "            <td>Toilet bowl cleaner</td> <td>Altra Tub, Tile & Bowl Cleaner                              </td> <td>nan     </td> <td>0.1      </td> <td>0         </td> <td>0.1      </td> <td>0.945482                                </td> <td>2.89745              </td> <td>1.6            </td> <td>3.2    </td>\n",
       "        </tr>\n",
       "        <tr>\n",
       "            <td>All Purpose Cleaner</td> <td>120 Peroxide Multi-Surface Cleaner WD                       </td> <td>nan     </td> <td>0.2      </td> <td>1.3       </td> <td>0.9      </td> <td>0.828054                                </td> <td>0.273756             </td> <td>7.6            </td> <td>2.5    </td>\n",
       "        </tr>\n",
       "        <tr>\n",
       "            <td>All Purpose Cleaner</td> <td>#2 Champion Spray Cleaner                                   </td> <td>$57.03  </td> <td>0.2      </td> <td>0.2       </td> <td>0.9      </td> <td>0.40724                                 </td> <td>1.99774              </td> <td>3.5            </td> <td>1.8    </td>\n",
       "        </tr>\n",
       "        <tr>\n",
       "            <td>All Purpose Cleaner</td> <td>3M General Purpose Cleaner Concentrate 8A, 3M Flow Contr ...</td> <td>$51.75  </td> <td>0.5      </td> <td>0.7       </td> <td>0.9      </td> <td>0.613122                                </td> <td>2.97624              </td> <td>6              </td> <td>4.3    </td>\n",
       "        </tr>\n",
       "        <tr>\n",
       "            <td>Glass Cleaner      </td> <td>Buckeye Eco Glass Cleaner HD                                </td> <td>$32.05  </td> <td>0.6      </td> <td>0.2       </td> <td>0.1      </td> <td>0.51567                                 </td> <td>0.521368             </td> <td>1.4            </td> <td>2.4    </td>\n",
       "        </tr>\n",
       "        <tr>\n",
       "            <td>All Purpose Cleaner</td> <td>120 Peroxide Multi-Surface Cleaner WD                       </td> <td>$204.36 </td> <td>0.1      </td> <td>0.1       </td> <td>0.1      </td> <td>nan                                     </td> <td>nan                  </td> <td>1.1            </td> <td>4.7    </td>\n",
       "        </tr>\n",
       "    </tbody>\n",
       "</table>"
      ],
      "text/plain": [
       "Product             | Alternatives                                                 | Price    | Transport | Processing | Packaging | Greenhouse Gas Emissions (per 1000 kcal) | Land use per 1000kcal | Total_Emissions | Reviews\n",
       "Toilet bowl cleaner | Altra Tub, Tile & Bowl Cleaner                               | nan      | 0.1       | 0          | 0.1       | 0.945482                                 | 2.89745               | 1.6             | 3.2\n",
       "All Purpose Cleaner | 120 Peroxide Multi-Surface Cleaner WD                        | nan      | 0.2       | 1.3        | 0.9       | 0.828054                                 | 0.273756              | 7.6             | 2.5\n",
       "All Purpose Cleaner | #2 Champion Spray Cleaner                                    | $57.03   | 0.2       | 0.2        | 0.9       | 0.40724                                  | 1.99774               | 3.5             | 1.8\n",
       "All Purpose Cleaner | 3M General Purpose Cleaner Concentrate 8A, 3M Flow Contr ... | $51.75   | 0.5       | 0.7        | 0.9       | 0.613122                                 | 2.97624               | 6               | 4.3\n",
       "Glass Cleaner       | Buckeye Eco Glass Cleaner HD                                 | $32.05   | 0.6       | 0.2        | 0.1       | 0.51567                                  | 0.521368              | 1.4             | 2.4\n",
       "All Purpose Cleaner | 120 Peroxide Multi-Surface Cleaner WD                        | $204.36  | 0.1       | 0.1        | 0.1       | nan                                      | nan                   | 1.1             | 4.7"
      ]
     },
     "execution_count": 29,
     "metadata": {},
     "output_type": "execute_result"
    }
   ],
   "source": [
    "low_to_high = cleaners.sort('Price', descending=True)\n",
    "low_to_high"
   ]
  },
  {
   "cell_type": "code",
   "execution_count": null,
   "id": "cbcef1d1-4002-4e4a-b553-c64102f02def",
   "metadata": {},
   "outputs": [],
   "source": []
  }
 ],
 "metadata": {
  "kernelspec": {
   "display_name": "Python 3 (ipykernel)",
   "language": "python",
   "name": "python3"
  },
  "language_info": {
   "codemirror_mode": {
    "name": "ipython",
    "version": 3
   },
   "file_extension": ".py",
   "mimetype": "text/x-python",
   "name": "python",
   "nbconvert_exporter": "python",
   "pygments_lexer": "ipython3",
   "version": "3.9.13"
  }
 },
 "nbformat": 4,
 "nbformat_minor": 5
}
